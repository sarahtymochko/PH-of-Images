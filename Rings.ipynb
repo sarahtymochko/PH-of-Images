{
 "cells": [
  {
   "cell_type": "code",
   "execution_count": null,
   "metadata": {},
   "outputs": [],
   "source": [
    "import numpy as np\n",
    "import pandas as pd\n",
    "import matplotlib.pyplot as plt\n",
    "from utils import compute_pers, calc_bottleneck, downsample_average, SEDT\n",
    "from generate_examples import make_rings_example"
   ]
  },
  {
   "cell_type": "code",
   "execution_count": null,
   "metadata": {},
   "outputs": [],
   "source": [
    "HR_size = 5040\n",
    "data = make_rings_example(HR_size)\n",
    "\n",
    "plt.imshow(data, cmap='binary')\n",
    "plt.colorbar()\n",
    "plt.xticks([])\n",
    "plt.yticks([])"
   ]
  },
  {
   "cell_type": "code",
   "execution_count": null,
   "metadata": {},
   "outputs": [],
   "source": [
    "HR_binary = np.copy(data)\n",
    "\n",
    "kernel_size_list = [int(HR_size/i) for i in range(4,HR_size//2+1) if HR_size/i == int(HR_size/i)]"
   ]
  },
  {
   "cell_type": "code",
   "execution_count": null,
   "metadata": {},
   "outputs": [],
   "source": [
    "# Compute SEDT images\n",
    "binary_image_list = [] # list of binary images\n",
    "sedt_image_list = [] # list of sedt images\n",
    "num_pixels_list = [] # list keeping track of resolution\n",
    "for ks in kernel_size_list:\n",
    "    \n",
    "    # Downsample with threshold t=0.5\n",
    "    img = downsample_average(HR_binary, ks, t=0.5)\n",
    "    \n",
    "    # Keep list of binary images\n",
    "    binary_image_list.append(np.copy(img))\n",
    "        \n",
    "    # Compute SEDT\n",
    "    sedt = SEDT(img)\n",
    "    \n",
    "    num_pixels_list.append(len(sedt))\n",
    "    \n",
    "    # Scale SEDT\n",
    "    scale = HR_size/len(sedt)\n",
    "    sedt_image_list.append( sedt*scale )\n",
    "        \n",
    "# lastly add in high resolution version\n",
    "binary_image_list.append(np.copy(HR_binary))\n",
    "sedt_image_list.append(SEDT(HR_binary))\n",
    "num_pixels_list.append(HR_size)"
   ]
  },
  {
   "cell_type": "markdown",
   "metadata": {},
   "source": [
    "### Compute Persistence Diagrams"
   ]
  },
  {
   "cell_type": "code",
   "execution_count": null,
   "metadata": {},
   "outputs": [],
   "source": [
    "All_Dgms = []\n",
    "maxes = []\n",
    "mins = []\n",
    "for i,image in enumerate(sedt_image_list):\n",
    "    \n",
    "    # Keep track of max and mins of images\n",
    "    maxes.append(np.amax(image))\n",
    "    mins.append(np.amin(image))\n",
    "    \n",
    "    # Compute pers dgms\n",
    "    dgms = compute_pers(image, dgm_format='giotto') # Diagrams from T Construction\n",
    "    \n",
    "    # Keep list of all diagrams\n",
    "    All_Dgms.append(dgms)"
   ]
  },
  {
   "cell_type": "markdown",
   "metadata": {},
   "source": [
    "### Compute Bottleneck distance"
   ]
  },
  {
   "cell_type": "code",
   "execution_count": null,
   "metadata": {},
   "outputs": [],
   "source": [
    "bdists_0_HR = []\n",
    "dim = 0\n",
    "for i in range(len(All_Dgms)):\n",
    "    dgm_a = All_Dgms[i][0]\n",
    "    dgm_a = dgm_a[dgm_a[:,2] == dim]\n",
    "    \n",
    "    dgm_b = All_Dgms[-1][0]\n",
    "    dgm_b = dgm_b[dgm_b[:,2] == dim]\n",
    "\n",
    "    d = calc_bottleneck(dgm_a, dgm_b)\n",
    "    bdists_0_HR.append( d )\n",
    "    \n",
    "bdists_1_HR = [] \n",
    "dim = 1\n",
    "for i in range(len(All_Dgms)):\n",
    "    dgm_a = All_Dgms[i][0]\n",
    "    dgm_a = dgm_a[dgm_a[:,2] == dim]\n",
    "    \n",
    "    dgm_b = All_Dgms[-1][0]\n",
    "    dgm_b = dgm_b[dgm_b[:,2] == dim]\n",
    "\n",
    "    d = calc_bottleneck(dgm_a, dgm_b)\n",
    "    bdists_1_HR.append( d )"
   ]
  },
  {
   "cell_type": "markdown",
   "metadata": {},
   "source": [
    "### Plot examples of binary images and SEDTS"
   ]
  },
  {
   "cell_type": "code",
   "execution_count": null,
   "metadata": {},
   "outputs": [],
   "source": [
    "nplots = 15\n",
    "if nplots > 0:\n",
    "    plt.figure(figsize=(5*3, 3*3))\n",
    "    for i in range(len(binary_image_list[:nplots])):\n",
    "        plt.subplot(3, 5, i+1)\n",
    "        plt.imshow(binary_image_list[i], cmap='binary')\n",
    "        plt.xticks([])\n",
    "        plt.yticks([])\n",
    "        plt.title(rf'{num_pixels_list[i]}$\\times${num_pixels_list[i]}')\n",
    "    plt.tight_layout()\n",
    "    \n",
    "if nplots > 0:\n",
    "    plt.figure(figsize=(5*3, 3*3))\n",
    "    for i in range(len(binary_image_list[:nplots])):\n",
    "        plt.subplot(3, 5, i+1)\n",
    "        plt.imshow(sedt_image_list[i])\n",
    "        plt.colorbar()\n",
    "        plt.xticks([])\n",
    "        plt.yticks([])\n",
    "        plt.title(rf'{num_pixels_list[i]}$\\times${num_pixels_list[i]}')\n",
    "    plt.tight_layout()"
   ]
  },
  {
   "cell_type": "markdown",
   "metadata": {},
   "source": [
    "### Plot high resolution binary image and SEDT"
   ]
  },
  {
   "cell_type": "code",
   "execution_count": null,
   "metadata": {},
   "outputs": [],
   "source": [
    "plt.figure(figsize=(7,7))\n",
    "\n",
    "plt.subplot(1,2,1)\n",
    "plt.imshow(-1*(binary_image_list[-1]-1),cmap='binary')\n",
    "plt.title('Binary')\n",
    "plt.xticks([])\n",
    "plt.yticks([])\n",
    "\n",
    "plt.subplot(1,2,2)\n",
    "plt.title('DSEDT')\n",
    "plt.imshow(sedt_image_list[-1])\n",
    "plt.xticks([])\n",
    "plt.yticks([])\n",
    "\n",
    "plt.tight_layout()"
   ]
  },
  {
   "cell_type": "markdown",
   "metadata": {},
   "source": [
    "### Plot bottleneck distance vs resolution and bottleneck distance vs pixel size"
   ]
  },
  {
   "cell_type": "code",
   "execution_count": null,
   "metadata": {},
   "outputs": [],
   "source": [
    "# Where to stop zoomed in figure\n",
    "switch_pt = 38\n",
    "\n",
    "ex1 = 11\n",
    "ex2 = 19\n",
    "ex3 = 31\n",
    "\n",
    "fig, ax1 = plt.subplots(figsize=(6,4))\n",
    "xdata = num_pixels_list # resolution\n",
    "\n",
    "ax1.plot(xdata, bdists_0_HR, c='C0', label='Dim 0')\n",
    "ax1.plot(xdata, bdists_1_HR, c='C1', label='Dim 1')\n",
    "ax1.set_xlabel('Resolution')\n",
    "ax1.set_ylabel('Bottleneck Distance')\n",
    "\n",
    "\n",
    "# These are in unitless percentages of the figure size. (0,0 is bottom left)\n",
    "left, bottom, width, height = [0.35, 0.4, 0.5, 0.45]\n",
    "ax2 = fig.add_axes([left, bottom, width, height])\n",
    "\n",
    "ax2.plot(xdata[:switch_pt], bdists_0_HR[:switch_pt], c='C0', label='Dim 0')\n",
    "ax2.plot(xdata[:switch_pt], bdists_1_HR[:switch_pt], c='C1', label='Dim 1')\n",
    "ax2.scatter(xdata[ex1], bdists_1_HR[ex1], s=30, c='C2', label=f'{int(xdata[ex1])} Pixels')\n",
    "ax2.scatter(xdata[ex2], bdists_1_HR[ex2], s=30, c='C3', marker=',', label=f'{int(xdata[ex2])} Pixels')\n",
    "ax2.scatter(xdata[ex3], bdists_1_HR[ex3], s=30, c='C4', marker='^', label=f'{int(xdata[ex3])} Pixels')\n",
    "ax2.legend()\n",
    "\n",
    "\n",
    "clim_min = min( np.amin(sedt_image_list[ex1]), np.amin(sedt_image_list[ex2]), np.amin(sedt_image_list[ex3]))\n",
    "clim_max = max( np.amax(sedt_image_list[ex1]), np.amax(sedt_image_list[ex2]), np.amax(sedt_image_list[ex3]))\n",
    "\n",
    "\n",
    "left, bottom, width, height = [0, -0.45, 0.3, 0.4]\n",
    "ax3 = fig.add_axes([left, bottom, width, height])\n",
    "plt.imshow(sedt_image_list[ex1])\n",
    "plt.clim([clim_min, clim_max])\n",
    "plt.title(f'Pixels: {xdata[ex1]}')\n",
    "plt.xticks([])\n",
    "plt.yticks([])\n",
    "\n",
    "\n",
    "left, bottom, width, height = [0.35, -0.45, 0.3, 0.4]\n",
    "ax4 = fig.add_axes([left, bottom, width, height])\n",
    "plt.imshow(sedt_image_list[ex2])\n",
    "plt.clim([clim_min, clim_max])\n",
    "plt.title(f'Pixels: {xdata[ex2]}')\n",
    "plt.xticks([])\n",
    "plt.yticks([])\n",
    "\n",
    "left, bottom, width, height = [0.7, -0.45, 0.3, 0.4]\n",
    "ax5 = fig.add_axes([left, bottom, width, height])\n",
    "plt.imshow(sedt_image_list[ex3])\n",
    "plt.clim([clim_min, clim_max])\n",
    "plt.title(f'Pixels: {xdata[ex3]}')\n",
    "plt.xticks([])\n",
    "plt.yticks([])\n",
    "\n",
    "plt.savefig('Figs/RingsExample_Resolution.png', dpi=300, bbox_inches='tight')"
   ]
  },
  {
   "cell_type": "code",
   "execution_count": null,
   "metadata": {},
   "outputs": [],
   "source": [
    "ex1 = 11\n",
    "ex2 = 19\n",
    "ex3 = 31\n",
    "\n",
    "fig, ax1 = plt.subplots(figsize=(6,4))\n",
    "xdata = max(num_pixels_list)/np.array(num_pixels_list) # pixel size\n",
    "\n",
    "ax1.semilogx(xdata, bdists_0_HR, c='C0', label='Dim 0')\n",
    "ax1.semilogx(xdata, bdists_1_HR, c='C1', label='Dim 1')\n",
    "ax1.set_xlabel('Resolution')\n",
    "ax1.set_ylabel('Bottleneck Distance')\n",
    "\n",
    "ax1.scatter(xdata[ex1], bdists_1_HR[ex1], s=30, c='C2', label=f'Pixel Size: {int(xdata[ex1])}')\n",
    "ax1.scatter(xdata[ex2], bdists_1_HR[ex2], s=30, c='C3', marker=',', label=f'Pixel Size: {int(xdata[ex2])}')\n",
    "ax1.scatter(xdata[ex3], bdists_1_HR[ex3], s=30, c='C4', marker='^', label=f'Pixel Size: {int(xdata[ex3])}')\n",
    "ax1.legend()\n",
    "\n",
    "\n",
    "clim_min = min( np.amin(sedt_image_list[ex1]), np.amin(sedt_image_list[ex2]), np.amin(sedt_image_list[ex3]))\n",
    "clim_max = max( np.amax(sedt_image_list[ex1]), np.amax(sedt_image_list[ex2]), np.amax(sedt_image_list[ex3]))\n",
    "\n",
    "left, bottom, width, height = [0.7, -0.45, 0.3, 0.4]\n",
    "ax3 = fig.add_axes([left, bottom, width, height])\n",
    "plt.imshow(sedt_image_list[ex1])\n",
    "plt.clim([clim_min, clim_max])\n",
    "plt.title(f'Pixel Size: {int(xdata[ex1])}')\n",
    "plt.xticks([])\n",
    "plt.yticks([])\n",
    "\n",
    "\n",
    "left, bottom, width, height = [0.35, -0.45, 0.3, 0.4]\n",
    "ax4 = fig.add_axes([left, bottom, width, height])\n",
    "plt.imshow(sedt_image_list[ex2])\n",
    "plt.clim([clim_min, clim_max])\n",
    "plt.title(f'Pixel Size: {int(xdata[ex2])}')\n",
    "plt.xticks([])\n",
    "plt.yticks([])\n",
    "\n",
    "left, bottom, width, height = [0, -0.45, 0.3, 0.4]\n",
    "ax5 = fig.add_axes([left, bottom, width, height])\n",
    "plt.imshow(sedt_image_list[ex3])\n",
    "plt.clim([clim_min, clim_max])\n",
    "plt.title(f'Pixel Size: {int(xdata[ex3])}')\n",
    "plt.xticks([])\n",
    "plt.yticks([])\n",
    "\n",
    "plt.savefig('Figs/RingsExample_PixelSize.png', dpi=300, bbox_inches='tight')"
   ]
  },
  {
   "cell_type": "code",
   "execution_count": null,
   "metadata": {},
   "outputs": [],
   "source": []
  }
 ],
 "metadata": {
  "colab": {
   "collapsed_sections": [],
   "name": "Generate_Synthetic_Data.ipynb",
   "provenance": []
  },
  "kernelspec": {
   "display_name": "Python 3",
   "language": "python",
   "name": "python3"
  },
  "language_info": {
   "codemirror_mode": {
    "name": "ipython",
    "version": 3
   },
   "file_extension": ".py",
   "mimetype": "text/x-python",
   "name": "python",
   "nbconvert_exporter": "python",
   "pygments_lexer": "ipython3",
   "version": "3.8.8"
  }
 },
 "nbformat": 4,
 "nbformat_minor": 4
}
